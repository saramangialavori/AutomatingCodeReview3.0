{
  "cells": [
    {
      "cell_type": "markdown",
      "metadata": {
        "id": "qWgILLAAy_N-"
      },
      "source": [
        "# T5 Fine_Tuning\n",
        "\n",
        "in this notebook we will fine-tune different models on the datasets we already processed.\n",
        "\n",
        "## NOTEBOOK SETTINGS\n",
        "\n",
        "We recommend to use \"high ram\" setting for this notebook\n",
        "you can changed this in the colab menu : `Runtime > Change runtime type`\n",
        "\n",
        "\n",
        "We start by setting the environment connecting colab to the Google Cloud Storage (GCS) bucket and setting everything up for the TPU processor. (This colab uses TPU and high ram settings)"
      ]
    },
    {
      "cell_type": "code",
      "execution_count": null,
      "metadata": {
        "id": "FX9_YlEdy8gz"
      },
      "outputs": [],
      "source": [
        "import os\n",
        "os.environ['USE_AUTH_EPHEM'] = '0'\n",
        "\n",
        "from google.colab import auth\n",
        "auth.authenticate_user()\n",
        "\n",
        "#@title ## Set Your GCS credential\n",
        "project_id = 'thesis-acr3' #@param {type:\"string\"}\n",
        "bucket_name = 'automatic-code-review-3' #@param {type:\"string\"}\n",
        "\n",
        "!gcloud config set project {project_id}\n",
        "\n",
        "!pip3 install --upgrade pip\n",
        "!pip3 install t5==0.9.0\n",
        "!pip3 install tensorflow==2.7.0\n",
        "!pip3 install keras==2.7.0\n",
        "!pip3 install gin-config\n",
        "!pip install git+https://github.com/tensorflow/mesh.git\n",
        "!pip install -qU t5==0.9.2\n",
        "!pip install -q tensorflow-text==2.8.0rc0\n",
        "\n",
        "import functools\n",
        "import os\n",
        "import time\n",
        "import warnings\n",
        "warnings.filterwarnings(\"ignore\", category=DeprecationWarning)\n",
        "\n",
        "import tensorflow.compat.v1 as tf\n",
        "import tensorflow_datasets as tfds\n",
        "\n",
        "import t5\n",
        "\n",
        "tf.flags.DEFINE_string('f','','')\n",
        "\n",
        "#Set the base dir(Google cloud bucket)\n",
        "BASE_DIR = \"gs://\" + bucket_name \n",
        "\n",
        "if not BASE_DIR or BASE_DIR == \"gs://\":\n",
        "  raise ValueError(\"You must enter a BASE_DIR.\")\n",
        "ON_CLOUD = True\n",
        "\n",
        "\n",
        "if ON_CLOUD:\n",
        "  import tensorflow_gcs_config\n",
        "  from google.colab import auth\n",
        "  # Set credentials for GCS reading/writing from Colab and TPU.\n",
        "  TPU_TOPOLOGY = \"2x2\"\n",
        "  try:\n",
        "    tpu = tf.distribute.cluster_resolver.TPUClusterResolver()  # TPU detection\n",
        "    TPU_ADDRESS = tpu.get_master()\n",
        "    print('Running on TPU:', TPU_ADDRESS)\n",
        "  except ValueError:\n",
        "    raise BaseException('ERROR: Not connected to a TPU runtime; please see the previous cell in this notebook for instructions!')\n",
        "  auth.authenticate_user()\n",
        "  tf.compat.v1.enable_eager_execution(config=None, device_policy=None, execution_mode=None)\n",
        "  tf.config.experimental_connect_to_host(TPU_ADDRESS)\n",
        "  tensorflow_gcs_config.configure_gcs_from_colab_auth()\n",
        "\n",
        "tf.disable_v2_behavior()\n",
        "\n",
        "# Improve logging.\n",
        "from contextlib import contextmanager\n",
        "import logging as py_logging\n",
        "\n",
        "if ON_CLOUD:\n",
        "  tf.get_logger().propagate = False\n",
        "  py_logging.root.setLevel('INFO')\n",
        "\n",
        "@contextmanager\n",
        "def tf_verbosity_level(level):\n",
        "  og_level = tf.logging.get_verbosity()\n",
        "  tf.logging.set_verbosity(level)\n",
        "  yield\n",
        "  tf.logging.set_verbosity(og_level)"
      ]
    },
    {
      "cell_type": "markdown",
      "metadata": {
        "id": "ZAo86QxiwX9F"
      },
      "source": [
        "We specify the paths and the sizes of all our datasets to later build our tasks."
      ]
    },
    {
      "cell_type": "code",
      "execution_count": null,
      "metadata": {
        "id": "IC03zV3sy8oT"
      },
      "outputs": [],
      "source": [
        "## CLASSIFIER\n",
        "nq_tsv_path_classifier = {\n",
        "    \"train\":      'gs://' + bucket_name + 'dataset/fine-tuning/classifier/train.tsv',\n",
        "    \"validation\": 'gs://' + bucket_name + 'dataset/fine-tuning/classifier/val.tsv',\n",
        "    \"test\":       'gs://' + bucket_name + 'dataset/fine-tuning/classifier/test.tsv'\n",
        "\n",
        "}\n",
        "\n",
        "!gsutil cp {nq_tsv_path_classifier[\"train\"]} ./train.tsv\n",
        "!gsutil cp {nq_tsv_path_classifier[\"validation\"]} ./val.tsv\n",
        "!gsutil cp {nq_tsv_path_classifier[\"test\"]} ./test.tsv\n",
        "\n",
        "data_train = len([line for line in open('./train.tsv', 'r')])\n",
        "data_val = len([line for line in open('./val.tsv', 'r')])\n",
        "data_test = len([line for line in open('./test.tsv', 'r')])\n",
        "\n",
        "num_nq_examples_classifier = dict(train=data_train, validation=data_val, test=data_test)"
      ]
    },
    {
      "cell_type": "code",
      "execution_count": null,
      "metadata": {
        "id": "knZOfgZnLqPv"
      },
      "outputs": [],
      "source": [
        "num_nq_examples_classifier"
      ]
    },
    {
      "cell_type": "markdown",
      "metadata": {
        "id": "QBVqrfNF4EoQ"
      },
      "source": [
        "We specify the model and vocab path of the previusly trained sentencepiece tokenizer model in the GCS bucket"
      ]
    },
    {
      "cell_type": "code",
      "execution_count": null,
      "metadata": {
        "id": "_twenV5ZwhPf"
      },
      "outputs": [],
      "source": [
        "from t5.data import postprocessors as t5_postprocessors\n",
        "from t5.seqio import Feature,SentencePieceVocabulary\n",
        "\n",
        "vocab_model_path = 'gs://' + bucket_name + '/tokenizer/TokenizerModel.model'\n",
        "vocab_path = 'gs://' + bucket_name + '/tokenizer/TokenizerModel.vocab'\n",
        "\n",
        "TaskRegistry = t5.data.TaskRegistry\n",
        "TfdsTask = t5.data.TfdsTask\n",
        "\n",
        "def get_default_vocabulary():\n",
        "  return SentencePieceVocabulary(vocab_model_path, 100)\n",
        "\n",
        "DEFAULT_OUTPUT_FEATURES = {\n",
        "    \"inputs\": Feature(\n",
        "        vocabulary=get_default_vocabulary(), add_eos=True, required=False),\n",
        "\n",
        "    \"targets\": Feature(\n",
        "        vocabulary=get_default_vocabulary(), add_eos=True)\n",
        "}"
      ]
    },
    {
      "cell_type": "markdown",
      "metadata": {
        "id": "oDvropGqwja9"
      },
      "source": [
        "# Setting up the classifier task\n"
      ]
    },
    {
      "cell_type": "markdown",
      "metadata": {
        "id": "jmUI-77k9LHs"
      },
      "source": [
        "## TASK : CLASSIFIER\n",
        "- task name = `classifier`\n",
        "- task prefix = `classifier: `"
      ]
    },
    {
      "cell_type": "code",
      "execution_count": null,
      "metadata": {
        "id": "pCSPTr5K9LH0"
      },
      "outputs": [],
      "source": [
        "def nq_dataset_classifier(split, shuffle_files=True):\n",
        "  # We only have one file for each split.\n",
        "  del shuffle_files\n",
        "\n",
        "  # Load lines from the text file as examples.\n",
        "  ds = tf.data.TextLineDataset(nq_tsv_path_classifier[split])\n",
        "  ds = ds.map(\n",
        "      functools.partial(tf.io.decode_csv, record_defaults=[\"string\",\"string\"],\n",
        "                        field_delim=\"\\t\", use_quote_delim=False),\n",
        "      num_parallel_calls=tf.data.experimental.AUTOTUNE)\n",
        "  \n",
        "  ds = ds.map(lambda *ex: dict(zip([\"input\", \"output\"], ex)))\n",
        "  return ds\n",
        "\n",
        "print(\"A few raw validation examples...\")\n",
        "for ex in tfds.as_numpy(nq_dataset_classifier(\"validation\").take(2)):\n",
        "  print(ex)\n",
        "print(\"A few raw training examples...\")\n",
        "for ex in tfds.as_numpy(nq_dataset_classifier(\"train\").take(2)):\n",
        "  print(ex)\n",
        "\n",
        "def classifier_preprocessing(ds):\n",
        "  def to_inputs_and_targets(ex):\n",
        "        inputs = tf.strings.join(['classifier: ' + ex['input']], separator=' ')\n",
        "        class_label = tf.strings.join([ex['output']], separator=' ')\n",
        "        return {'inputs': inputs, 'targets': class_label }\n",
        "    \n",
        "  return ds.map(to_inputs_and_targets, \n",
        "                num_parallel_calls=tf.data.experimental.AUTOTUNE)\n",
        "  \n",
        "t5.data.TaskRegistry.remove('classifier')\n",
        "t5.data.TaskRegistry.add(\n",
        "    \"classifier\",\n",
        "    dataset_fn=nq_dataset_classifier,\n",
        "    splits=[\"train\", \"validation\"],\n",
        "    text_preprocessor=[classifier_preprocessing],\n",
        "    output_features = DEFAULT_OUTPUT_FEATURES,\n",
        "    metric_fns=[t5.evaluation.metrics.accuracy],\n",
        "    num_input_examples=num_nq_examples_classifier\n",
        ")\n",
        "\n",
        "nq_task = t5.data.TaskRegistry.get(\"classifier\")\n",
        "ds = nq_task.get_dataset(split=\"train\", sequence_length={\"inputs\": 512, \"targets\": 512})\n",
        "print(\"A few preprocessed training examples...\")\n",
        "for ex in tfds.as_numpy(ds.take(3)):\n",
        "  print(ex)"
      ]
    },
    {
      "cell_type": "markdown",
      "metadata": {
        "id": "n4jj7R6x4UoE"
      },
      "source": [
        "# Setting up fine tuning tasks"
      ]
    },
    {
      "cell_type": "code",
      "execution_count": null,
      "metadata": {
        "id": "-SDyG3Z44elJ"
      },
      "outputs": [],
      "source": [
        "def _rate_num_input_examples(task):\n",
        "  if \"train\" in task.splits:\n",
        "    return float(task.num_input_examples(\"train\"))\n",
        "  elif \"validation\" in task.splits:\n",
        "    return float(task.num_input_examples(\"validation\"))\n",
        "  elif \"test\" in task.splits:\n",
        "    return float(task.num_input_examples(\"test\"))\n",
        "  else:\n",
        "    raise ValueError(\"Task %s does not have a train or validation split.\" % (task.name))"
      ]
    },
    {
      "cell_type": "code",
      "execution_count": null,
      "metadata": {
        "id": "MCvcX3uV4bZb"
      },
      "outputs": [],
      "source": [
        "## CLASSIFIER\n",
        "t5.data.MixtureRegistry.remove(\"classifier\")\n",
        "t5.data.MixtureRegistry.add(\n",
        "    \"classifier\",\n",
        "    [\"classifier\"],\n",
        "    default_rate=_rate_num_input_examples\n",
        ")"
      ]
    },
    {
      "cell_type": "markdown",
      "metadata": {
        "id": "1qt_SUnBQsbK"
      },
      "source": [
        "Here we need to specify:\n",
        "- if we want to fin-tuning a pre-trained model or not (and the path of the pre-trained model if needed)\n",
        "- the dataset we want to use between the new larger dataset and the one by Tufano etal. (ICSE21)\n",
        "- the downstream task"
      ]
    },
    {
      "cell_type": "code",
      "execution_count": null,
      "metadata": {
        "id": "diBUukTP8_4K"
      },
      "outputs": [],
      "source": [
        "# our T5 selected architecture\n",
        "MODEL_SIZE = \"small\"\n",
        "\n",
        "#@title Select fine-tuning with or without pre-training\n",
        "fine_tuning = \"fine-tuning_with_pre-training/\" #@param [\"fine-tuning_with_pre-training/\", \"fine-tuning_without_pre-training/\"]\n",
        "\n",
        "if fine_tuning == \"fine-tuning_with_pre-training/\":\n",
        "  # Specify the pre-trained dir which must contain the pre-trained models, the operative_config.gin file and the checkpoint file as well\n",
        "  PRETRAINED_DIR= 'gs://' + bucket_name + '/model_dumps/pre-training/'\n",
        "\n",
        "############ output path ############\n",
        "task_to_train = 'classifier'\n",
        "MODEL_DIR = f'gs://{bucket_name}/model_dumps/{fine_tuning}/{task_to_train}'\n",
        "\n",
        "model_parallelism, train_batch_size, keep_checkpoint_max = {\n",
        "    \"small\": (1, 128, 200),\n",
        "    \"base\": (2, 128, 8),\n",
        "    \"large\": (8, 64, 4),\n",
        "    \"3B\": (8, 16, 1),\n",
        "    \"11B\": (8, 16, 1)}[MODEL_SIZE]\n"
      ]
    },
    {
      "cell_type": "markdown",
      "metadata": {
        "id": "Jm72wnoR4YP0"
      },
      "source": [
        "We set the selected learning rate scheduler"
      ]
    },
    {
      "cell_type": "code",
      "execution_count": null,
      "metadata": {
        "id": "WlsFvlRP6b_Z"
      },
      "outputs": [],
      "source": [
        "from mesh_tensorflow.transformer.learning_rate_schedules import slanted_triangular \n",
        "\n",
        "from mesh_tensorflow.transformer.learning_rate_schedules import truncated_rsqrt\n",
        " \n",
        "from tensorflow.keras.optimizers.schedules import PolynomialDecay\n",
        "\n",
        "from t5 import models\n",
        "\n",
        "starter_learning_rate = 0.05\n",
        "end_learning_rate = 0.001\n",
        "decay_steps = 10000\n",
        "\n",
        "learning_rate_fn = PolynomialDecay(\n",
        "    starter_learning_rate,\n",
        "    decay_steps,\n",
        "    end_learning_rate,\n",
        "    power=0.5)\n",
        "\n",
        "#@title Select a learning rate scheduler\n",
        "learning_rate_scheduler_picker = \"slanted\" #@param [\"slanted\", \"isr\", \"polynomial\", \"constant\"]\n",
        "\n",
        "if learning_rate_scheduler_picker == \"slanted\":\n",
        "  selected_learning_rate_scheduler = slanted_triangular\n",
        "  PATH_GIN_FILE = 'gs://' + bucket_name + '/utils/operative_config_slanted.gin'\n",
        "elif learning_rate_scheduler_picker == \"isr\":\n",
        "  selected_learning_rate_scheduler = truncated_rsqrt\n",
        "  PATH_GIN_FILE = 'gs://' + bucket_name + '/utils/operative_config_isr.gin'\n",
        "elif learning_rate_scheduler_picker == \"polynomial\":\n",
        "  selected_learning_rate_scheduler = learning_rate_fn\n",
        "  PATH_GIN_FILE = 'gs://' + bucket_name + '/utils/operative_config_polynomial.gin'\n",
        "elif learning_rate_scheduler_picker == \"constant\":\n",
        "  selected_learning_rate_scheduler = 0.001\n",
        "  PATH_GIN_FILE = 'gs://' + bucket_name + '/utils/operative_config_constant.gin'\n",
        "\n",
        "#@title Select a learning rate scheduler\n",
        "number_of_steps = 800000 #@param {type:\"integer\"}\n",
        "\n",
        "pretraining_steps = 0\n",
        "if fine_tuning == \"fine-tuning_with_pre-training/\":\n",
        "  pretraining_steps = 200000\n",
        "\n",
        "tf.io.gfile.makedirs(MODEL_DIR)\n",
        "\n",
        "model = t5.models.MtfModel(\n",
        "    model_dir=MODEL_DIR,\n",
        "    tpu=TPU_ADDRESS,\n",
        "    tpu_topology=TPU_TOPOLOGY,\n",
        "    model_parallelism=model_parallelism,\n",
        "    batch_size=train_batch_size,\n",
        "    learning_rate_schedule = selected_learning_rate_scheduler,\n",
        "    sequence_length={\"inputs\": 512, \"targets\": 512},\n",
        "    save_checkpoints_steps=10000,\n",
        "    keep_checkpoint_max=keep_checkpoint_max if ON_CLOUD else None,\n",
        "    iterations_per_loop=100,\n",
        ")\n",
        "\n",
        "!gsutil cp {PATH_GIN_FILE}  ./config.gin\n",
        "\n",
        "if learning_rate_scheduler_picker == \"slanted\":\n",
        "  gin_lines = [line for line in open(\"./config.gin\")]\n",
        "  f = open(\"./config.gin\", \"w+\")\n",
        "  for i in range(len(gin_lines)):\n",
        "    if i == 196 and fine_tuning == \"fine-tuning_without_pre-training/\":\n",
        "      line = \"slanted_triangular.start_step = 0\\n\"\n",
        "      f.write(line)\n",
        "      continue\n",
        "    if i == 197:\n",
        "      line = \"slanted_triangular.total_train_steps = \" + str(number_of_steps + pretraining_steps) + '\\n'\n",
        "      f.write(line)\n",
        "      continue\n",
        "    f.write(gin_lines[i])\n",
        "  f.close()"
      ]
    },
    {
      "cell_type": "markdown",
      "metadata": {
        "id": "ylIkE_kaQO7L"
      },
      "source": [
        "# Start Training"
      ]
    },
    {
      "cell_type": "code",
      "execution_count": null,
      "metadata": {
        "id": "BsX8mjVrBV3D"
      },
      "outputs": [],
      "source": [
        "import gin\n",
        "\n",
        "if fine_tuning == \"fine-tuning_without_pre-training/\":\n",
        "  # NON PRETRAINED\n",
        "  with gin.unlock_config():    \n",
        "      gin.parse_config_file(\"./config.gin\")\n",
        "      TRAIN_STEPS = number_of_steps\n",
        "      model.train(task_to_train, steps=number_of_steps)\n",
        "\n",
        "else:\n",
        "  # PRETRAINED\n",
        "  with gin.unlock_config():\n",
        "      gin.parse_config_file(\"./config.gin\")\n",
        "      #RUN FINE-TUNING\n",
        "      model.finetune(\n",
        "          mixture_or_task_name=task_to_train,\n",
        "          pretrained_model_dir=PRETRAINED_DIR,\n",
        "            finetune_steps=number_of_steps\n",
        "      )"
      ]
    },
    {
      "cell_type": "markdown",
      "metadata": {
        "id": "YAKKKClFdAZY"
      },
      "source": [
        "# Evaluation\n",
        "\n",
        "Evaluate the model checkpoint(s) on the validation set"
      ]
    },
    {
      "cell_type": "code",
      "execution_count": null,
      "metadata": {
        "id": "HOM1HIQbln3a"
      },
      "outputs": [],
      "source": [
        "# Use a larger batch size for evaluation, which requires less memory.\n",
        "# This cell is used to get the inputs and targets, hence can be stopped as soon\n",
        "# as these files are created\n",
        "model.batch_size = 1024\n",
        "model.eval(\n",
        "    mixture_or_task_name=task_to_train,\n",
        "    # -1 will evaluate the last checkpoint, you can also provide \n",
        "    # a list of checkpoints with the following format : [10000, 20000, 30000]\n",
        "    checkpoint_steps=-1,\n",
        "    split=\"validation\"\n",
        "    )"
      ]
    },
    {
      "cell_type": "code",
      "execution_count": null,
      "metadata": {
        "id": "zNkVZev67RG5"
      },
      "outputs": [],
      "source": [
        "checkpoints = [x for x in range(pretraining_steps, pretraining_steps + number_of_steps + 10000, 10000)]"
      ]
    },
    {
      "cell_type": "code",
      "execution_count": null,
      "metadata": {
        "id": "F5dusmgzb21V"
      },
      "outputs": [],
      "source": [
        "folder = MODEL_DIR + \"/validation_eval\"\n",
        "input_file = f\"{folder}/{task_to_train}_inputs\"\n",
        "output_file = f\"{folder}/{task_to_train}_predictions\"\n",
        "\n",
        "model.predict(input_file=input_file, \n",
        "              output_file=output_file,\n",
        "              checkpoint_steps=checkpoints,\n",
        "              beam_size=1, \n",
        "              temperature=0.0, \n",
        "              keep_top_k=-1, \n",
        "              vocabulary=get_default_vocabulary())"
      ]
    },
    {
      "cell_type": "markdown",
      "source": [
        "Evaluate the best model checkpoint on the test set"
      ],
      "metadata": {
        "id": "JXPexWrGjIuU"
      }
    },
    {
      "cell_type": "code",
      "source": [
        "#@title: Select the best checkpoint\n",
        "best_checkpoint = 200000 #@param {type:\"integer\"}"
      ],
      "metadata": {
        "id": "M5lhh5UmjLbb"
      },
      "execution_count": null,
      "outputs": []
    },
    {
      "cell_type": "code",
      "source": [
        "# Use a larger batch size for evaluation, which requires less memory.\n",
        "# This cell is used to get the inputs and targets, hence can be stopped as soon\n",
        "# as these files are created\n",
        "model.batch_size = 1024\n",
        "model.eval(\n",
        "    mixture_or_task_name=task_to_train,\n",
        "    checkpoint_steps=best_checkpoint,\n",
        "    split=\"test\"\n",
        "    )"
      ],
      "metadata": {
        "id": "9HEE_Rq6jOv2"
      },
      "execution_count": null,
      "outputs": []
    },
    {
      "cell_type": "code",
      "source": [
        "folder = MODEL_DIR + \"/test_eval\"\n",
        "input_file = f\"{folder}/{task_to_train}_inputs\"\n",
        "output_file = f\"{folder}/{task_to_train}_predictions\"\n",
        "\n",
        "model.predict(input_file=input_file, \n",
        "              output_file=output_file,\n",
        "              checkpoint_steps=best_checkpoint,\n",
        "              beam_size=1, \n",
        "              temperature=0.0, \n",
        "              keep_top_k=-1, \n",
        "              vocabulary=get_default_vocabulary())"
      ],
      "metadata": {
        "id": "kJOWXX4wjRLU"
      },
      "execution_count": null,
      "outputs": []
    },
    {
      "cell_type": "markdown",
      "metadata": {
        "id": "Ur8eEd8dQCTX"
      },
      "source": [
        "# Confidence score\n",
        "\n",
        "Using the `model.score()` function we evaluate the model confidence about the generated predictions (given the input)."
      ]
    },
    {
      "cell_type": "code",
      "execution_count": null,
      "metadata": {
        "id": "m9m79JaPPB_-"
      },
      "outputs": [],
      "source": [
        "import math\n",
        "\n",
        "model.batch_size = train_batch_size\n",
        "\n",
        "folder =  MODEL_DIR + \"/test_eval\"\n",
        "input_file = f\"{folder}/{task_to_train}_inputs\"\n",
        "prediction_file = f\"{folder}/{task_to_train}_predictions-{best_checkpoint}\"\n",
        "score_file = f\"{folder}/with_score/{task_to_train}_scores\"\n",
        "\n",
        "model.score(inputs=input_file,\n",
        "            targets=prediction_file,\n",
        "            scores_file=score_file,\n",
        "            checkpoint_steps=best_checkpoint,\n",
        "            vocabulary=get_default_vocabulary())\n"
      ]
    },
    {
      "cell_type": "code",
      "execution_count": null,
      "metadata": {
        "id": "UhfV5K3zZKEe"
      },
      "outputs": [],
      "source": [
        "with tf.io.gfile.GFile(score_file + \".scores\", \"r\") as scores, \\\n",
        "     tf.io.gfile.GFile(f\"{folder}/confidence_scores.txt\", \"w\") as confidence_scores:\n",
        "  confidence_score = [math.exp(float(line.split()[0])) for line in scores.readlines()]\n",
        "\n",
        "  for i in range(len(confidence_score)):\n",
        "    confidence_scores.write(str(confidence_score[i]) + '\\n')"
      ]
    }
  ],
  "metadata": {
    "accelerator": "TPU",
    "colab": {
      "collapsed_sections": [],
      "machine_shape": "hm",
      "name": "FineTuningClassifier.ipynb",
      "provenance": []
    },
    "kernelspec": {
      "display_name": "Python 3",
      "name": "python3"
    },
    "language_info": {
      "name": "python"
    }
  },
  "nbformat": 4,
  "nbformat_minor": 0
}